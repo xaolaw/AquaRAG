{
 "cells": [
  {
   "cell_type": "code",
   "execution_count": 50,
   "id": "b5fc6c56",
   "metadata": {},
   "outputs": [],
   "source": [
    "import os\n",
    "from typing import Annotated, Sequence, TypedDict, List\n",
    "import logging\n",
    "\n",
    "logging.basicConfig(level=logging.INFO)\n",
    "\n",
    "from dotenv import load_dotenv\n",
    "from langchain_core.messages import BaseMessage, SystemMessage, ToolMessage\n",
    "from langchain_core.tools import tool\n",
    "from langchain_nvidia_ai_endpoints import ChatNVIDIA, NVIDIAEmbeddings\n",
    "from langgraph.graph import END, StateGraph, START\n",
    "from langgraph.graph.message import add_messages\n",
    "from langgraph.prebuilt import ToolNode\n",
    "from qdrant_client import QdrantClient\n",
    "\n",
    "load_dotenv()\n",
    "collection_name = 'prawo_wodne'\n",
    "\n",
    "def vectorize_user_query(query: str) -> List[float]:\n",
    "    embedder = NVIDIAEmbeddings(model = os.environ[\"EMBEDDER\"])\n",
    "    return embedder.embed_query(query)\n",
    "\n",
    "@tool\n",
    "def retrive_data_from_db(user_query: str) -> str:\n",
    "    \"\"\"Using user query input returns data from vector database as a list of a string documents. \n",
    "    The list is used for chatbot answer.\"\"\"\n",
    "\n",
    "    client = QdrantClient(url='http://localhost:6333')\n",
    "    response = client.query_points(\n",
    "        collection_name=collection_name,\n",
    "        query=vectorize_user_query(query=user_query),\n",
    "        limit=5,\n",
    "        with_payload=True,\n",
    "    )\n",
    "    logging.info(response)\n",
    "    if not response:\n",
    "        return \"Nie znalazłem dokumentów odpowiednich do zadanego pytania\"\n",
    "    return \"\\n\".join([i.payload['content']['page_content'] for i in response.points])"
   ]
  },
  {
   "cell_type": "code",
   "execution_count": 51,
   "id": "435b8181",
   "metadata": {},
   "outputs": [],
   "source": [
    "text = \"Witaj, co obejmują instrumenty zarządzania zasobami wodnymi?\""
   ]
  },
  {
   "cell_type": "code",
   "execution_count": 52,
   "id": "574c5bb4",
   "metadata": {},
   "outputs": [
    {
     "name": "stderr",
     "output_type": "stream",
     "text": [
      "INFO:httpx:HTTP Request: GET http://localhost:6333 \"HTTP/1.1 200 OK\"\n",
      "INFO:httpx:HTTP Request: POST http://localhost:6333/collections/prawo_wodne/points/query \"HTTP/1.1 200 OK\"\n",
      "INFO:root:points=[ScoredPoint(id=29, version=29, score=0.7104428, payload={'content': {'metadata': {'producer': 'Microsoft® Word 2013', 'creator': 'Microsoft® Word 2013', 'creationdate': '2024-01-24T10:08:08+01:00', 'title': 'Akt prawny', 'author': 'Władysław Baksza', 'moddate': '2024-01-24T10:08:08+01:00', 'source': './files/prawod_wodne.pdf', 'total_pages': 444}, 'page_content': 'wykorzystania wód; \\n7) zaspokojenia potrzeb związanych z turystyką, sportem oraz rekreacją. \\nArt. 11. Instrumenty zarządzania zasobami wodnymi obejmują: \\n1) planowanie w gospodarowaniu wodami; \\n2) zgody wodnoprawne; \\n3) opłaty za usługi wodne oraz inne należności;'}}, vector=None, shard_key=None, order_value=None), ScoredPoint(id=1757, version=1757, score=0.60761607, payload={'content': {'metadata': {'producer': 'Microsoft® Word 2013', 'creator': 'Microsoft® Word 2013', 'creationdate': '2024-01-24T10:08:08+01:00', 'title': 'Akt prawny', 'author': 'Władysław Baksza', 'moddate': '2024-01-24T10:08:08+01:00', 'source': './files/prawod_wodne.pdf', 'total_pages': 444}, 'page_content': 'Instrumenty ekonomiczne w gospodarowaniu wodami \\nArt. 267. Instrumenty ekonomiczne służące gospodarowaniu wodami \\nstanowią: \\n1) opłaty za usługi wodne; \\n2) opłaty podwyższone; \\n3) należności za korzystanie ze śródlądowych dróg wodnych i ich odcinków oraz'}}, vector=None, shard_key=None, order_value=None), ScoredPoint(id=2274, version=2274, score=0.5883087, payload={'content': {'metadata': {'producer': 'Microsoft® Word 2013', 'creator': 'Microsoft® Word 2013', 'creationdate': '2024-01-24T10:08:08+01:00', 'title': 'Akt prawny', 'author': 'Władysław Baksza', 'moddate': '2024-01-24T10:08:08+01:00', 'source': './files/prawod_wodne.pdf', 'total_pages': 444}, 'page_content': 'z uwzględnieniem zasady zwrotu kosztów usług wodnych oraz długoterminowych \\nprognoz dotyczących możliwości zaspokojenia potrzeb w  zakresie korzystania \\nz zasobów wodnych na obszarz e dorzecza obejmujących śródlądowe wody \\npowierzchniowe i  wody podziemne, morskie wody wewnętrzne oraz wody'}}, vector=None, shard_key=None, order_value=None), ScoredPoint(id=30, version=30, score=0.5847368, payload={'content': {'metadata': {'producer': 'Microsoft® Word 2013', 'creator': 'Microsoft® Word 2013', 'creationdate': '2024-01-24T10:08:08+01:00', 'title': 'Akt prawny', 'author': 'Władysław Baksza', 'moddate': '2024-01-24T10:08:08+01:00', 'source': './files/prawod_wodne.pdf', 'total_pages': 444}, 'page_content': '3) opłaty za usługi wodne oraz inne należności; \\n4) kontrolę gospodarowania wodami; \\n5) system informacyjny gospodarowania wodami. \\nArt. 12. Zarządzanie zasobami wodnymi jest realizowane z  uwzględnieniem \\npodziału państwa na obszary dorzeczy, regiony wodne i zlewnie.'}}, vector=None, shard_key=None, order_value=None), ScoredPoint(id=24, version=24, score=0.58105433, payload={'content': {'metadata': {'producer': 'Microsoft® Word 2013', 'creator': 'Microsoft® Word 2013', 'creationdate': '2024-01-24T10:08:08+01:00', 'title': 'Akt prawny', 'author': 'Władysław Baksza', 'moddate': '2024-01-24T10:08:08+01:00', 'source': './files/prawod_wodne.pdf', 'total_pages': 444}, 'page_content': 'i wymaga się współdziałania  administracji publicznej, użytkowników wód \\ni przedstawicieli lokalnych społeczności w  zakresie pozwalającym uzyskać \\nmaksymalne korzyści społeczne. \\n3. Gospodarowanie wodami opiera się na zasadzie zwrotu ko sztów usług'}}, vector=None, shard_key=None, order_value=None)]\n"
     ]
    },
    {
     "data": {
      "text/plain": [
       "'wykorzystania wód; \\n7) zaspokojenia potrzeb związanych z turystyką, sportem oraz rekreacją. \\nArt. 11. Instrumenty zarządzania zasobami wodnymi obejmują: \\n1) planowanie w gospodarowaniu wodami; \\n2) zgody wodnoprawne; \\n3) opłaty za usługi wodne oraz inne należności;\\nInstrumenty ekonomiczne w gospodarowaniu wodami \\nArt. 267. Instrumenty ekonomiczne służące gospodarowaniu wodami \\nstanowią: \\n1) opłaty za usługi wodne; \\n2) opłaty podwyższone; \\n3) należności za korzystanie ze śródlądowych dróg wodnych i ich odcinków oraz\\nz uwzględnieniem zasady zwrotu kosztów usług wodnych oraz długoterminowych \\nprognoz dotyczących możliwości zaspokojenia potrzeb w  zakresie korzystania \\nz zasobów wodnych na obszarz e dorzecza obejmujących śródlądowe wody \\npowierzchniowe i  wody podziemne, morskie wody wewnętrzne oraz wody\\n3) opłaty za usługi wodne oraz inne należności; \\n4) kontrolę gospodarowania wodami; \\n5) system informacyjny gospodarowania wodami. \\nArt. 12. Zarządzanie zasobami wodnymi jest realizowane z  uwzględnieniem \\npodziału państwa na obszary dorzeczy, regiony wodne i zlewnie.\\ni wymaga się współdziałania  administracji publicznej, użytkowników wód \\ni przedstawicieli lokalnych społeczności w  zakresie pozwalającym uzyskać \\nmaksymalne korzyści społeczne. \\n3. Gospodarowanie wodami opiera się na zasadzie zwrotu ko sztów usług'"
      ]
     },
     "execution_count": 52,
     "metadata": {},
     "output_type": "execute_result"
    }
   ],
   "source": [
    "retrive_data_from_db.invoke(text)"
   ]
  },
  {
   "cell_type": "code",
   "execution_count": 70,
   "id": "bfc16656",
   "metadata": {},
   "outputs": [],
   "source": [
    "from langchain_core.prompts import ChatPromptTemplate, PromptTemplate\n",
    "from langgraph.graph.message import add_messages\n",
    "\n",
    "class RagState(TypedDict):\n",
    "    message: Annotated[Sequence[BaseMessage], add_messages]\n",
    "    context: Annotated[Sequence[BaseMessage], add_messages]\n",
    "\n",
    "model = ChatNVIDIA(model=os.environ[\"LLM\"], temprature = 0).bind_tools([retrive_data_from_db])\n",
    "\n",
    "GENERATE_PROMPT = (\n",
    "    \"Jesteś botem odpowiadającym na zapytania użytkownika na podstawie dokumentu prawa wodnego. \"\n",
    "    \"Użytkonwik zapytał: {question}\\n \"\n",
    "    \"Z jego pytania udało się nam uzyskać następujące dokumenty z bazy danych \"\n",
    "    \"Document z bazy:\\n{context}\\n\\n \"\n",
    "    \"(Odpowiedz tylko na podstawie dokumentów) \"\n",
    ")\n",
    "\n",
    "def generate_query_context(state: RagState) -> RagState:\n",
    "    logging.info(\"generating query context\")\n",
    "    logging.info(state['message'])\n",
    "    response = model.invoke(state['message'])\n",
    "    state['context'] = response\n",
    "    logging.info(state['context'])\n",
    "    return state\n",
    "\n",
    "def generate_user_answer(state: RagState) -> RagState:\n",
    "    logging.info(\"generating user answer\")\n",
    "    prompt = GENERATE_PROMPT.format(question=state[\"message\"], context=state[\"context\"])\n",
    "    response = model.invoke([{\"role\": \"user\", \"content\": prompt}])\n",
    "    return {\"message\": [response]}"
   ]
  },
  {
   "cell_type": "code",
   "execution_count": 71,
   "id": "10c34265",
   "metadata": {},
   "outputs": [
    {
     "name": "stderr",
     "output_type": "stream",
     "text": [
      "INFO:root:generating query context\n",
      "INFO:root:Witaj, co obejmują instrumenty zarządzania zasobami wodnymi?\n",
      "INFO:root:content='' additional_kwargs={'tool_calls': [{'id': 'chatcmpl-tool-7d985bfbf0d94501bb19cffb9a9dd4bb', 'type': 'function', 'function': {'name': 'retrive_data_from_db', 'arguments': '{\"user_query\": \"Instrumenty zarz\\\\u0105dzania zasobami wodnymi\"}'}}]} response_metadata={'role': 'assistant', 'content': None, 'tool_calls': [{'id': 'chatcmpl-tool-7d985bfbf0d94501bb19cffb9a9dd4bb', 'type': 'function', 'function': {'name': 'retrive_data_from_db', 'arguments': '{\"user_query\": \"Instrumenty zarz\\\\u0105dzania zasobami wodnymi\"}'}}], 'token_usage': {'prompt_tokens': 319, 'total_tokens': 346, 'completion_tokens': 27}, 'finish_reason': 'tool_calls', 'model_name': 'meta/llama-3.1-8b-instruct'} id='run--7a3cc9d5-a7de-4e29-8aaa-e48f68d48490-0' tool_calls=[{'name': 'retrive_data_from_db', 'args': {'user_query': 'Instrumenty zarządzania zasobami wodnymi'}, 'id': 'chatcmpl-tool-7d985bfbf0d94501bb19cffb9a9dd4bb', 'type': 'tool_call'}] usage_metadata={'input_tokens': 319, 'output_tokens': 27, 'total_tokens': 346} role='assistant'\n"
     ]
    },
    {
     "data": {
      "text/plain": [
       "{'message': 'Witaj, co obejmują instrumenty zarządzania zasobami wodnymi?',\n",
       " 'context': AIMessage(content='', additional_kwargs={'tool_calls': [{'id': 'chatcmpl-tool-7d985bfbf0d94501bb19cffb9a9dd4bb', 'type': 'function', 'function': {'name': 'retrive_data_from_db', 'arguments': '{\"user_query\": \"Instrumenty zarz\\\\u0105dzania zasobami wodnymi\"}'}}]}, response_metadata={'role': 'assistant', 'content': None, 'tool_calls': [{'id': 'chatcmpl-tool-7d985bfbf0d94501bb19cffb9a9dd4bb', 'type': 'function', 'function': {'name': 'retrive_data_from_db', 'arguments': '{\"user_query\": \"Instrumenty zarz\\\\u0105dzania zasobami wodnymi\"}'}}], 'token_usage': {'prompt_tokens': 319, 'total_tokens': 346, 'completion_tokens': 27}, 'finish_reason': 'tool_calls', 'model_name': 'meta/llama-3.1-8b-instruct'}, id='run--7a3cc9d5-a7de-4e29-8aaa-e48f68d48490-0', tool_calls=[{'name': 'retrive_data_from_db', 'args': {'user_query': 'Instrumenty zarządzania zasobami wodnymi'}, 'id': 'chatcmpl-tool-7d985bfbf0d94501bb19cffb9a9dd4bb', 'type': 'tool_call'}], usage_metadata={'input_tokens': 319, 'output_tokens': 27, 'total_tokens': 346}, role='assistant')}"
      ]
     },
     "execution_count": 71,
     "metadata": {},
     "output_type": "execute_result"
    }
   ],
   "source": [
    "input = {\"message\": \"Witaj, co obejmują instrumenty zarządzania zasobami wodnymi?\"}\n",
    "result = generate_query_context(input)\n",
    "result"
   ]
  },
  {
   "cell_type": "code",
   "execution_count": 72,
   "id": "cc118dba",
   "metadata": {},
   "outputs": [
    {
     "name": "stdout",
     "output_type": "stream",
     "text": [
      "==================================\u001b[1m Ai Message \u001b[0m==================================\n",
      "Tool Calls:\n",
      "  retrive_data_from_db (chatcmpl-tool-7d985bfbf0d94501bb19cffb9a9dd4bb)\n",
      " Call ID: chatcmpl-tool-7d985bfbf0d94501bb19cffb9a9dd4bb\n",
      "  Args:\n",
      "    user_query: Instrumenty zarządzania zasobami wodnymi\n"
     ]
    }
   ],
   "source": [
    "result['context'].pretty_print()"
   ]
  },
  {
   "cell_type": "code",
   "execution_count": 56,
   "id": "f6242a20",
   "metadata": {},
   "outputs": [],
   "source": [
    "from langgraph.prebuilt import tools_condition\n",
    "\n",
    "graph = StateGraph(RagState)\n",
    "\n",
    "graph.add_node(generate_query_context)\n",
    "graph.add_node(\"retrieve\", ToolNode([retrive_data_from_db]))\n",
    "graph.add_node(generate_user_answer)\n",
    "\n",
    "graph.add_edge(START, \"generate_query_context\")\n",
    "graph.add_conditional_edges(\n",
    "    \"generate_query_context\",\n",
    "    # Assess LLM decision (call `retriever_tool` tool or respond to the user)\n",
    "    tools_condition,\n",
    "    {\n",
    "        # Translate the condition outputs to nodes in our graph\n",
    "        \"tools\": \"retrieve\",\n",
    "        END: END,\n",
    "    },\n",
    ")\n",
    "graph.add_edge(\"retrieve\", \"generate_user_answer\")\n",
    "graph.add_edge(\"generate_user_answer\", END)\n",
    "\n",
    "agent = graph.compile()"
   ]
  },
  {
   "cell_type": "code",
   "execution_count": 60,
   "id": "741b0887",
   "metadata": {},
   "outputs": [
    {
     "data": {
      "image/png": "[encoded data removed]",
      "text/plain": [
       "<IPython.core.display.Image object>"
      ]
     },
     "metadata": {},
     "output_type": "display_data"
    }
   ],
   "source": [
    "from IPython.display import Image, display\n",
    "\n",
    "display(Image(agent.get_graph().draw_mermaid_png()))"
   ]
  },
  {
   "cell_type": "code",
   "execution_count": 78,
   "id": "cb3681a5",
   "metadata": {},
   "outputs": [
    {
     "data": {
      "text/plain": [
       "[Model(id='meta/llama-3.3-70b-instruct', model_type='chat', client='ChatNVIDIA', endpoint=None, aliases=None, supports_tools=True, supports_structured_output=True, base_model=None),\n",
       " Model(id='meta/llama-3.1-8b-instruct', model_type='chat', client='ChatNVIDIA', endpoint=None, aliases=None, supports_tools=True, supports_structured_output=True, base_model=None),\n",
       " Model(id='meta/llama-3.1-405b-instruct', model_type='chat', client='ChatNVIDIA', endpoint=None, aliases=None, supports_tools=True, supports_structured_output=True, base_model=None),\n",
       " Model(id='meta/llama-3.2-3b-instruct', model_type='chat', client='ChatNVIDIA', endpoint=None, aliases=None, supports_tools=True, supports_structured_output=True, base_model=None),\n",
       " Model(id='mistralai/mistral-large-2-instruct', model_type='chat', client='ChatNVIDIA', endpoint=None, aliases=None, supports_tools=True, supports_structured_output=True, base_model=None),\n",
       " Model(id='meta/llama-3.1-70b-instruct', model_type='chat', client='ChatNVIDIA', endpoint=None, aliases=None, supports_tools=True, supports_structured_output=True, base_model=None),\n",
       " Model(id='nv-mistralai/mistral-nemo-12b-instruct', model_type='chat', client='ChatNVIDIA', endpoint=None, aliases=None, supports_tools=True, supports_structured_output=True, base_model=None)]"
      ]
     },
     "execution_count": 78,
     "metadata": {},
     "output_type": "execute_result"
    }
   ],
   "source": [
    "[m for m in ChatNVIDIA.get_available_models() if m.supports_tools]"
   ]
  }
 ],
 "metadata": {
  "kernelspec": {
   "display_name": ".venv",
   "language": "python",
   "name": "python3"
  },
  "language_info": {
   "codemirror_mode": {
    "name": "ipython",
    "version": 3
   },
   "file_extension": ".py",
   "mimetype": "text/x-python",
   "name": "python",
   "nbconvert_exporter": "python",
   "pygments_lexer": "ipython3",
   "version": "3.11.9"
  }
 },
 "nbformat": 4,
 "nbformat_minor": 5
}
