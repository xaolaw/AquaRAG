{
 "cells": [
  {
   "cell_type": "code",
   "execution_count": 137,
   "metadata": {},
   "outputs": [
    {
     "data": {
      "text/plain": [
       "True"
      ]
     },
     "execution_count": 137,
     "metadata": {},
     "output_type": "execute_result"
    }
   ],
   "source": [
    "from dotenv import load_dotenv\n",
    "from qdrant_client import QdrantClient\n",
    "from qdrant_client.http.models import VectorParams, Distance\n",
    "from qdrant_client.http.models import PointStruct\n",
    "from langchain_community.document_loaders import PyPDFLoader\n",
    "from langchain_core.documents import Document\n",
    "from langchain_text_splitters import RecursiveCharacterTextSplitter\n",
    "from langchain_nvidia_ai_endpoints import NVIDIAEmbeddings\n",
    "import os\n",
    "\n",
    "collection_name = \"prawo_wodne\"\n",
    "\n",
    "\"\"\"\n",
    "This file is responsible for loading a pdf file from hugginface, transforming it to embeded version and inserting as new collection to qdrant database\n",
    "\"\"\"\n",
    "\n",
    "#[m for m in NVIDIAEmbeddings.get_available_models() if \"embed\" in m.id]\n",
    "\"\"\"\n",
    "This function returns list of langchain documents.\n",
    "Loading whole file as one document in order to split it with chunk overlap.\n",
    "\"\"\"\n",
    "def ReadPdf(path_to_pdf: str) -> list[Document]:\n",
    "\n",
    "  try:\n",
    "    loader = PyPDFLoader(\n",
    "      file_path = path_to_pdf,\n",
    "      mode=\"single\"\n",
    "    )\n",
    "    print(\"Loading pdf file...\")\n",
    "    document = loader.load()\n",
    "    return document\n",
    "  \n",
    "  except ValueError as e:\n",
    "\n",
    "    print(\"\\033[91mValueError in ReadPdf: Provided path does not lead to a file: \\033[0m\", e)\n",
    "    return []\n",
    "  \n",
    "def EmbedDocument() -> tuple[list[list[float]], list[Document]]:\n",
    "  \n",
    "  splitter = RecursiveCharacterTextSplitter(\n",
    "    chunk_size=300,\n",
    "    chunk_overlap=60,\n",
    "    length_function=len,\n",
    "    is_separator_regex=False\n",
    "  )\n",
    "\n",
    "  doc = ReadPdf('./files/prawod_wodne.pdf')\n",
    "  doc_splitted = splitter.split_documents(documents=doc)\n",
    "  doc_splitted_txt = [doc.page_content for doc in doc_splitted]\n",
    "\n",
    "  print(\"Embedding...\")\n",
    "  embedder = NVIDIAEmbeddings(model=\"nvidia/nv-embed-v1\",NVIDIA_API_KEY=os.environ[\"NVIDIA_API_KEY\"])\n",
    "  embeddings = embedder.embed_documents(doc_splitted_txt)\n",
    "\n",
    "  return embeddings, doc_splitted\n",
    "\n",
    "def InsertToVectorDb(embeddings, doc_splitted) -> bool:\n",
    "  client = QdrantClient(url=\"http://localhost:6333\")\n",
    "\n",
    "  #embeddings, doc_splitted = EmbedDocument()\n",
    "\n",
    "  if client.collection_exists(collection_name):\n",
    "   print(\"Deleteing old collection...\")\n",
    "   client.delete_collection(collection_name=collection_name)\n",
    "\n",
    "  print(\"Creating collection...\")\n",
    "  client.create_collection(\n",
    "    collection_name=collection_name,\n",
    "    vectors_config=VectorParams(size=len(embeddings[0]), distance=Distance.COSINE),\n",
    "    timeout=30 \n",
    "  )\n",
    "\n",
    "  print(\"Starting adding new vectors\")\n",
    "  for index, chunk in enumerate(doc_splitted):\n",
    "    if index %100 == 0:\n",
    "      print(f\"Runnig {round(index/len(doc_splitted),10)*100}%\")\n",
    "    try:\n",
    "        point = PointStruct(\n",
    "            id=index,\n",
    "            vector=embeddings[index], \n",
    "            payload={\"content\": chunk}\n",
    "        )\n",
    "    except:\n",
    "        print(index)\n",
    "\n",
    "    client.upsert(\n",
    "        collection_name=collection_name,\n",
    "        points=[point]\n",
    "    )\n",
    "\n",
    "load_dotenv()\n",
    "\n",
    "\n",
    "\n"
   ]
  },
  {
   "cell_type": "code",
   "execution_count": 122,
   "metadata": {},
   "outputs": [
    {
     "name": "stdout",
     "output_type": "stream",
     "text": [
      "Loading pdf file...\n",
      "Embedding...\n"
     ]
    }
   ],
   "source": [
    "embeddings, doc_splitted = EmbedDocument()\n",
    "  "
   ]
  },
  {
   "cell_type": "code",
   "execution_count": null,
   "metadata": {},
   "outputs": [
    {
     "name": "stdout",
     "output_type": "stream",
     "text": [
      "Creating collection...\n",
      "Starting adding new vectors\n",
      "Runnig 0.0%\n",
      "Runnig 2.82485876%\n"
     ]
    }
   ],
   "source": [
    "InsertToVectorDb(embeddings, doc_splitted)"
   ]
  }
 ],
 "metadata": {
  "kernelspec": {
   "display_name": ".venv",
   "language": "python",
   "name": "python3"
  },
  "language_info": {
   "codemirror_mode": {
    "name": "ipython",
    "version": 3
   },
   "file_extension": ".py",
   "mimetype": "text/x-python",
   "name": "python",
   "nbconvert_exporter": "python",
   "pygments_lexer": "ipython3",
   "version": "3.11.9"
  }
 },
 "nbformat": 4,
 "nbformat_minor": 2
}
