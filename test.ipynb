{
 "cells": [
  {
   "cell_type": "code",
   "execution_count": 113,
   "id": "8f5322ad",
   "metadata": {},
   "outputs": [],
   "source": [
    "import json\n",
    "import os\n",
    "import re\n",
    "from typing import List, Tuple\n",
    "\n",
    "from dotenv import load_dotenv\n",
    "from langchain.retrievers import ParentDocumentRetriever\n",
    "from langchain.storage import InMemoryStore\n",
    "from langchain_community.document_loaders import PyPDFLoader\n",
    "from langchain_core.documents import Document\n",
    "from langchain_nvidia_ai_endpoints import NVIDIAEmbeddings\n",
    "from langchain_qdrant import QdrantVectorStore\n",
    "from langchain_text_splitters import RecursiveCharacterTextSplitter\n",
    "from qdrant_client import QdrantClient\n",
    "from qdrant_client.http.models import Distance, PointStruct, VectorParams\n",
    "from langchain.storage import LocalFileStore\n",
    "from langchain.storage._lc_store import create_kv_docstore\n",
    "\n",
    "\n",
    "load_dotenv()\n",
    "child_collection_name = os.environ[\"CHILD_COLLECTION_NAME\"]\n",
    "parent_collection_name = os.environ[\"PARENT_COLLECTION_NAME\"]\n",
    "\n",
    "\"\"\"\n",
    "This file is responsible for loading a pdf file from hugginface, transforming it to embeded version and inserting as new collection to qdrant database\n",
    "\"\"\"\n",
    "\n",
    "# [m for m in NVIDIAEmbeddings.get_available_models() if \"embed\" in m.id]\n",
    "\n",
    "\n",
    "def ReadPdf(path_to_pdf: str) -> List[Document]:\n",
    "    \"\"\"\n",
    "    This function returns list of langchain documents.\n",
    "    Loading whole file as one document in order to split it with chunk overlap.\n",
    "    \"\"\"\n",
    "    try:\n",
    "        loader = PyPDFLoader(file_path=path_to_pdf, mode=\"page\")\n",
    "        print(\"📄 Loading PDF file...\")\n",
    "        raw_docs  = loader.load()\n",
    "        documents = []\n",
    "        previous_match = []\n",
    "        for doc in raw_docs:\n",
    "            text = doc.page_content\n",
    "            # Match something like \"Art. 123\"\n",
    "            match = re.findall(r\"\\bArt\\.\\s*(\\d+)\", text)\n",
    "            \n",
    "            # If there is no match we are still on previous article\n",
    "            article_number = match if match else [previous_match[-1]]\n",
    "            \n",
    "            # Add the last article that we ended before\n",
    "            if len(previous_match) > 0 and previous_match[-1] not in article_number:\n",
    "                article_number.insert(0,previous_match[-1])\n",
    "                \n",
    "            previous_match = article_number\n",
    "\n",
    "            documents.append(Document(\n",
    "                page_content=text,\n",
    "                metadata={\"article_number\": article_number}\n",
    "            ))\n",
    "\n",
    "        return documents\n",
    "    except ValueError as e:\n",
    "        print(\n",
    "            \"\\033[91mValueError in ReadPdf: Provided path does not lead to a file: \\033[0m\",\n",
    "            e,\n",
    "        )\n",
    "        return []"
   ]
  },
  {
   "cell_type": "code",
   "execution_count": 114,
   "id": "0a1e55f5",
   "metadata": {},
   "outputs": [
    {
     "name": "stdout",
     "output_type": "stream",
     "text": [
      "📄 Loading PDF file...\n"
     ]
    }
   ],
   "source": [
    "doc_splitted = ReadPdf(\"./data/prawod_wodne.pdf\")"
   ]
  },
  {
   "cell_type": "code",
   "execution_count": 129,
   "id": "a6c86606",
   "metadata": {},
   "outputs": [
    {
     "data": {
      "text/plain": [
       "[b'{\"lc\": 1, \"type\": \"constructor\", \"id\": [\"langchain\", \"schema\", \"document\", \"Document\"], \"kwargs\": {\"metadata\": {\"article_number\": [\"397\", \"398\"]}, \"page_content\": \"\\\\u00a9Kancelaria Sejmu    s. 350/444 \\\\n \\\\n2024-01-24 \\\\n \\\\n6. Wniosek o  wydanie pozwolenia wodnoprawnego, oceny wodnoprawnej, \\\\ndecyzji, o  kt\\\\u00f3rych mowa w  art. 77 ust. 3 i  8 oraz w  art. 176 ust. 4, a  tak\\\\u017ce \\\\nzg\\\\u0142oszenie wodnoprawne sk\\\\u0142ada si\\\\u0119 do nadzoru wodnego w\\\\u0142a\\\\u015bciwego miejscowo \\\\nalbo najbli\\\\u017cszego dla zamierzonego kor zystania z  us\\\\u0142ug wodnych lub \\\\nwykonywania urz\\\\u0105dze\\\\u0144 wodnych, lub innej dzia\\\\u0142alno\\\\u015bci wymagaj\\\\u0105cej zgody \\\\nwodnoprawnej. \\\\nArt. 397a.  1. Wniosek o wydanie pozwolenia wodnoprawnego, oceny \\\\nwodnoprawnej, decyzji, o kt\\\\u00f3rych mowa w art. 77  ust. 3 i 8 oraz w art. 176 ust . 4, \\\\noraz o udzielenie przyrzeczenia wydania pozwolenia wodnoprawnego, a  tak\\\\u017ce \\\\nzg\\\\u0142oszenie wodnoprawne sk\\\\u0142ada si\\\\u0119 w:  \\\\n1) postaci papierowej albo  \\\\n2) formie dokumentu elektronicznego w rozumieniu ustawy z dnia 17 lutego \\\\n2005 r. o informatyzacji dzia\\\\u0142alno\\\\u015bci podmiot\\\\u00f3w realizuj\\\\u0105cych zadania \\\\npubliczne.  \\\\n2. Wzory wniosk\\\\u00f3w oraz wz\\\\u00f3r zg\\\\u0142oszenia, o kt\\\\u00f3rych mowa w ust. 1, w tym w \\\\nformie dokumentu elektronicznego, Prezes W\\\\u00f3d Polskich opracowuje, po \\\\nuzgodnieniu z ministrem w\\\\u0142a\\\\u015bciwym do spraw gospodarki wodnej, i udost\\\\u0119 pnia \\\\nw Biuletynie Informacji Publicznej na stronie podmiotowej W\\\\u00f3d Polskich. \\\\nArt. 398. 1. Za udzielenie zg\\\\u00f3d wodnoprawnych, o  kt\\\\u00f3rych mowa \\\\nw art. 388 ust. 1 pkt 1\\\\u20133, ponosi si\\\\u0119 op\\\\u0142at\\\\u0119. \\\\n2. Za przyj\\\\u0119cie zg\\\\u0142oszenia wodnoprawnego op\\\\u0142ata wynosi 87 z\\\\u014213). \\\\n3. Za wydanie pozwolenia wodnoprawnego op\\\\u0142ata wynosi 217 z\\\\u014213). \\\\n4. Je\\\\u017celi w jednej decyzji wydano co najmniej dwa pozwolenia wodnoprawne, \\\\nkt\\\\u00f3re nie s\\\\u0105 to\\\\u017csame rodzajow o, op\\\\u0142at\\\\u0119, o  kt\\\\u00f3rej mowa w  ust. 3, mno\\\\u017cy si\\\\u0119 przez \\\\nliczb\\\\u0119 tych pozwole\\\\u0144 wodnoprawnych, przy czym maksymalna wysoko\\\\u015b\\\\u0107 op\\\\u0142aty \\\\nnie mo\\\\u017ce przekroczy\\\\u0107 4340 z\\\\u014213). \\\\n5. Za wydanie oceny wodnoprawnej op\\\\u0142ata wynosi 868 z\\\\u014213). \\\\n6. Op\\\\u0142at\\\\u0119, o  kt\\\\u00f3rej mowa w  ust. 3, ponosi si\\\\u0119 tak\\\\u017ce za wydanie decyzji, \\\\no kt\\\\u00f3rej mowa w art. 414 ust. 7. \\\\n                                                           \\\\n13) Aktualn\\\\u0105 wysoko\\\\u015b\\\\u0107 stawki op\\\\u0142aty og\\\\u0142asza, w drodze obwieszczenia w Dzienniku Urz\\\\u0119dowym \\\\nRzeczypospolitej Polskiej \\\\u201eMonitor Polski\\\\u201d, minister w\\\\u0142a\\\\u015bciwy do spraw gospodarki wodnej, na \\\\npodstawie art. 398 ust. 11.\", \"type\": \"Document\"}}']"
      ]
     },
     "execution_count": 129,
     "metadata": {},
     "output_type": "execute_result"
    }
   ],
   "source": [
    "retriver.docstore.store.mget(['8e8e52d1-3083-4e20-b200-7713ebd6e493'])"
   ]
  }
 ],
 "metadata": {
  "kernelspec": {
   "display_name": ".venv",
   "language": "python",
   "name": "python3"
  },
  "language_info": {
   "codemirror_mode": {
    "name": "ipython",
    "version": 3
   },
   "file_extension": ".py",
   "mimetype": "text/x-python",
   "name": "python",
   "nbconvert_exporter": "python",
   "pygments_lexer": "ipython3",
   "version": "3.11.9"
  }
 },
 "nbformat": 4,
 "nbformat_minor": 5
}
